{
 "cells": [
  {
   "metadata": {},
   "cell_type": "markdown",
   "source": "# Buổi 3",
   "id": "ab4a129e0fb36b59"
  },
  {
   "metadata": {},
   "cell_type": "markdown",
   "source": [
    "## Pandas\n",
    "### pandas cung cấp 2 kiểu dữ liệu chính\n",
    "- Series: dữ liệu 1 chiều (1D)\n",
    "- DataFrame: dữ liệu 2 chiều (2D)"
   ],
   "id": "2ed1a5b1b821bd50"
  },
  {
   "metadata": {
    "ExecuteTime": {
     "end_time": "2025-07-04T13:03:57.540892Z",
     "start_time": "2025-07-04T13:03:57.531098Z"
    }
   },
   "cell_type": "code",
   "source": [
    "import pandas as pd\n",
    "df = pd.read_csv('data.csv')\n",
    "type(df)"
   ],
   "id": "2749d7abbd81c847",
   "outputs": [
    {
     "data": {
      "text/plain": [
       "pandas.core.frame.DataFrame"
      ]
     },
     "execution_count": 17,
     "metadata": {},
     "output_type": "execute_result"
    }
   ],
   "execution_count": 17
  },
  {
   "metadata": {
    "ExecuteTime": {
     "end_time": "2025-07-04T13:02:20.719694Z",
     "start_time": "2025-07-04T13:02:20.701906Z"
    }
   },
   "cell_type": "code",
   "source": "df",
   "id": "aa741d326cfeda36",
   "outputs": [
    {
     "data": {
      "text/plain": [
       "                Name    Brand Storage    RAM          OS   Resolution  \\\n",
       "0  iPhone 15 Pro Max    Apple  256 GB   8 GB      iOS 17  2796 x 1290   \n",
       "1   Galaxy S24 Ultra  Samsung  512 GB  12 GB  Android 14  3120 x 1440   \n",
       "2        Pixel 8 Pro   Google  128 GB  12 GB  Android 14  2992 x 1344   \n",
       "3    Xiaomi 14 Ultra   Xiaomi  256 GB  16 GB  Android 14  3200 x 1440   \n",
       "4         OnePlus 12  OnePlus  512 GB  16 GB  Android 14  3216 x 1440   \n",
       "5   ASUS ROG Phone 8     ASUS  512 GB  16 GB  Android 14  2448 x 1080   \n",
       "6         Galaxy A55  Samsung  128 GB   8 GB  Android 14  2400 x 1080   \n",
       "7   iPhone SE (2022)    Apple   64 GB   4 GB      iOS 17   1334 x 750   \n",
       "\n",
       "    Battery  Price  \n",
       "0  4422 mAh  $1199  \n",
       "1  5000 mAh  $1299  \n",
       "2  5050 mAh   $999  \n",
       "3  5000 mAh  $1099  \n",
       "4  5400 mAh   $899  \n",
       "5  6000 mAh  $1099  \n",
       "6  5000 mAh   $449  \n",
       "7  2018 mAh   $429  "
      ],
      "text/html": [
       "<div>\n",
       "<style scoped>\n",
       "    .dataframe tbody tr th:only-of-type {\n",
       "        vertical-align: middle;\n",
       "    }\n",
       "\n",
       "    .dataframe tbody tr th {\n",
       "        vertical-align: top;\n",
       "    }\n",
       "\n",
       "    .dataframe thead th {\n",
       "        text-align: right;\n",
       "    }\n",
       "</style>\n",
       "<table border=\"1\" class=\"dataframe\">\n",
       "  <thead>\n",
       "    <tr style=\"text-align: right;\">\n",
       "      <th></th>\n",
       "      <th>Name</th>\n",
       "      <th>Brand</th>\n",
       "      <th>Storage</th>\n",
       "      <th>RAM</th>\n",
       "      <th>OS</th>\n",
       "      <th>Resolution</th>\n",
       "      <th>Battery</th>\n",
       "      <th>Price</th>\n",
       "    </tr>\n",
       "  </thead>\n",
       "  <tbody>\n",
       "    <tr>\n",
       "      <th>0</th>\n",
       "      <td>iPhone 15 Pro Max</td>\n",
       "      <td>Apple</td>\n",
       "      <td>256 GB</td>\n",
       "      <td>8 GB</td>\n",
       "      <td>iOS 17</td>\n",
       "      <td>2796 x 1290</td>\n",
       "      <td>4422 mAh</td>\n",
       "      <td>$1199</td>\n",
       "    </tr>\n",
       "    <tr>\n",
       "      <th>1</th>\n",
       "      <td>Galaxy S24 Ultra</td>\n",
       "      <td>Samsung</td>\n",
       "      <td>512 GB</td>\n",
       "      <td>12 GB</td>\n",
       "      <td>Android 14</td>\n",
       "      <td>3120 x 1440</td>\n",
       "      <td>5000 mAh</td>\n",
       "      <td>$1299</td>\n",
       "    </tr>\n",
       "    <tr>\n",
       "      <th>2</th>\n",
       "      <td>Pixel 8 Pro</td>\n",
       "      <td>Google</td>\n",
       "      <td>128 GB</td>\n",
       "      <td>12 GB</td>\n",
       "      <td>Android 14</td>\n",
       "      <td>2992 x 1344</td>\n",
       "      <td>5050 mAh</td>\n",
       "      <td>$999</td>\n",
       "    </tr>\n",
       "    <tr>\n",
       "      <th>3</th>\n",
       "      <td>Xiaomi 14 Ultra</td>\n",
       "      <td>Xiaomi</td>\n",
       "      <td>256 GB</td>\n",
       "      <td>16 GB</td>\n",
       "      <td>Android 14</td>\n",
       "      <td>3200 x 1440</td>\n",
       "      <td>5000 mAh</td>\n",
       "      <td>$1099</td>\n",
       "    </tr>\n",
       "    <tr>\n",
       "      <th>4</th>\n",
       "      <td>OnePlus 12</td>\n",
       "      <td>OnePlus</td>\n",
       "      <td>512 GB</td>\n",
       "      <td>16 GB</td>\n",
       "      <td>Android 14</td>\n",
       "      <td>3216 x 1440</td>\n",
       "      <td>5400 mAh</td>\n",
       "      <td>$899</td>\n",
       "    </tr>\n",
       "    <tr>\n",
       "      <th>5</th>\n",
       "      <td>ASUS ROG Phone 8</td>\n",
       "      <td>ASUS</td>\n",
       "      <td>512 GB</td>\n",
       "      <td>16 GB</td>\n",
       "      <td>Android 14</td>\n",
       "      <td>2448 x 1080</td>\n",
       "      <td>6000 mAh</td>\n",
       "      <td>$1099</td>\n",
       "    </tr>\n",
       "    <tr>\n",
       "      <th>6</th>\n",
       "      <td>Galaxy A55</td>\n",
       "      <td>Samsung</td>\n",
       "      <td>128 GB</td>\n",
       "      <td>8 GB</td>\n",
       "      <td>Android 14</td>\n",
       "      <td>2400 x 1080</td>\n",
       "      <td>5000 mAh</td>\n",
       "      <td>$449</td>\n",
       "    </tr>\n",
       "    <tr>\n",
       "      <th>7</th>\n",
       "      <td>iPhone SE (2022)</td>\n",
       "      <td>Apple</td>\n",
       "      <td>64 GB</td>\n",
       "      <td>4 GB</td>\n",
       "      <td>iOS 17</td>\n",
       "      <td>1334 x 750</td>\n",
       "      <td>2018 mAh</td>\n",
       "      <td>$429</td>\n",
       "    </tr>\n",
       "  </tbody>\n",
       "</table>\n",
       "</div>"
      ]
     },
     "execution_count": 10,
     "metadata": {},
     "output_type": "execute_result"
    }
   ],
   "execution_count": 10
  },
  {
   "metadata": {},
   "cell_type": "code",
   "outputs": [],
   "execution_count": null,
   "source": "",
   "id": "d0983d41c180dc9e"
  }
 ],
 "metadata": {
  "kernelspec": {
   "display_name": "Python 3",
   "language": "python",
   "name": "python3"
  },
  "language_info": {
   "codemirror_mode": {
    "name": "ipython",
    "version": 2
   },
   "file_extension": ".py",
   "mimetype": "text/x-python",
   "name": "python",
   "nbconvert_exporter": "python",
   "pygments_lexer": "ipython2",
   "version": "2.7.6"
  }
 },
 "nbformat": 4,
 "nbformat_minor": 5
}
