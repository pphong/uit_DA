{
 "cells": [
  {
   "metadata": {},
   "cell_type": "markdown",
   "source": [
    " ## Welcome to Basic Python\n",
    "\n",
    "Pham Phong\n",
    "24550034"
   ],
   "id": "3d9984f212fdc767"
  },
  {
   "metadata": {},
   "cell_type": "markdown",
   "source": [
    "1. Kiểu số - int - float\n",
    "2. Kiểu chuỗi - str            index + -    (getter, setter)\n",
    "3. Kiểu danh sách - list       index + -    (getter, setter)\n",
    "4. Kiểu tuple                  index + -    (getter)\n",
    "5. Kiểu dict                                (getter, setter)\n",
    "6. Kiểu tập hợp - set"
   ],
   "id": "b996a80be261ee1e"
  },
  {
   "metadata": {
    "ExecuteTime": {
     "end_time": "2025-06-20T13:03:58.397311Z",
     "start_time": "2025-06-20T13:03:58.388911Z"
    }
   },
   "cell_type": "code",
   "source": [
    "from xmlrpc.client import Boolean\n",
    "\n",
    "sv2 = [123, \"Nguyen Van A\", 0.45]\n",
    "print(sv2)\n",
    "\n",
    "# lấy phần tử ra khỏi mảng\n",
    "a = sv2.pop(0)\n",
    "print(a, sv2)\n",
    "\n",
    "# copy cả biến\n",
    "b = sv2.copy()\n",
    "print(b, sv2)\n",
    "\n",
    "#\n",
    "c = [2,4,8,6,1,5,2,3,9]\n",
    "c.sort()\n",
    "print(c)"
   ],
   "id": "9b0aabe097c87cd0",
   "outputs": [
    {
     "name": "stdout",
     "output_type": "stream",
     "text": [
      "[123, 'Nguyen Van A', 0.45]\n",
      "123 ['Nguyen Van A', 0.45]\n",
      "['Nguyen Van A', 0.45] ['Nguyen Van A', 0.45]\n",
      "[1, 2, 2, 3, 4, 5, 6, 8, 9]\n"
     ]
    }
   ],
   "execution_count": 17
  },
  {
   "metadata": {
    "ExecuteTime": {
     "end_time": "2025-06-20T13:13:31.252457Z",
     "start_time": "2025-06-20T13:13:31.245596Z"
    }
   },
   "cell_type": "code",
   "source": [
    "t1 = (2, \"awf\", 4.5)\n",
    "s1 = [6, 4.2 , \"ber\"]\n",
    "s2 = [6,0.5, \"a\", s1]\n",
    "d = {\n",
    "    \"a\": 123,\n",
    "    \"b\": 456,\n",
    "    \"c\": \"abcd\",\n",
    "    123: \"oiqjwo\",\n",
    "    \"t\": (1, \"a\", 0.5),\n",
    "    \"k1\": t1,\n",
    "    \"ss\": s2\n",
    "}\n",
    "\n",
    "print(d)\n"
   ],
   "id": "e6a5fff8683f1126",
   "outputs": [
    {
     "name": "stdout",
     "output_type": "stream",
     "text": [
      "{'a': 123, 'b': 456, 'c': 'abcd', 123: 'oiqjwo', 't': (1, 'a', 0.5), 'k1': (2, 'awf', 4.5), 'ss': [6, 0.5, 'a', [6, 4.2, 'ber']]}\n"
     ]
    }
   ],
   "execution_count": 27
  },
  {
   "metadata": {
    "ExecuteTime": {
     "end_time": "2025-06-20T13:29:51.089501Z",
     "start_time": "2025-06-20T13:29:51.082477Z"
    }
   },
   "cell_type": "code",
   "source": [
    "s = ('a', 'b')\n",
    "t1 = (2, \"awf\", 4.5, s)\n",
    "t2 = (\"awf\", 2, 4.5, s)\n",
    "th = { t1, (2, \"awf\", 4.5), t2 }\n",
    "print(th)\n"
   ],
   "id": "4e4f885425859282",
   "outputs": [
    {
     "name": "stdout",
     "output_type": "stream",
     "text": [
      "{(2, 'awf', 4.5, ('a', 'b')), (2, 'awf', 4.5), ('awf', 2, 4.5, ('a', 'b'))}\n"
     ]
    }
   ],
   "execution_count": 39
  },
  {
   "metadata": {
    "ExecuteTime": {
     "end_time": "2025-06-20T13:36:28.326218Z",
     "start_time": "2025-06-20T13:36:28.318445Z"
    }
   },
   "cell_type": "code",
   "source": [
    "print(bool([]), False)\n",
    "print(bool([1]), True)\n",
    "print(bool(None), None)"
   ],
   "id": "9106ce0bd83ee7c3",
   "outputs": [
    {
     "name": "stdout",
     "output_type": "stream",
     "text": [
      "False False\n",
      "True True\n",
      "False None\n"
     ]
    }
   ],
   "execution_count": 49
  }
 ],
 "metadata": {
  "kernelspec": {
   "display_name": "Python 3",
   "language": "python",
   "name": "python3"
  },
  "language_info": {
   "codemirror_mode": {
    "name": "ipython",
    "version": 2
   },
   "file_extension": ".py",
   "mimetype": "text/x-python",
   "name": "python",
   "nbconvert_exporter": "python",
   "pygments_lexer": "ipython2",
   "version": "2.7.6"
  }
 },
 "nbformat": 4,
 "nbformat_minor": 5
}
